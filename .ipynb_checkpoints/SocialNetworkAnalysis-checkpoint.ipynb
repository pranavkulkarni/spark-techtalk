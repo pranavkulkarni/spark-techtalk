{
 "cells": [
  {
   "cell_type": "code",
   "execution_count": 2,
   "metadata": {},
   "outputs": [
    {
     "data": {
      "text/html": [
       "<style>.container { width:100% !important; }</style>"
      ],
      "text/plain": [
       "<IPython.core.display.HTML object>"
      ]
     },
     "metadata": {},
     "output_type": "display_data"
    }
   ],
   "source": [
    "import shutil\n",
    "import os\n",
    "import pyspark\n",
    "from pyspark.sql.functions import *\n",
    "\n",
    "from IPython.core.display import display, HTML\n",
    "display(HTML(\"<style>.container { width:100% !important; }</style>\"))\n",
    "\n",
    "METASTORE_DB = '/Users/pran8670/Documents/workspace/spark-techtalk/metastore_db'\n",
    "if os.path.exists(METASTORE_DB):\n",
    "    shutil.rmtree(METASTORE_DB)"
   ]
  },
  {
   "cell_type": "code",
   "execution_count": 19,
   "metadata": {},
   "outputs": [],
   "source": [
    "# graphframes shenanigans\n",
    "\n",
    "sc.stop()\n",
    "\n",
    "jars = [\n",
    "    '/Users/pran8670/Documents/workspace/spark-techtalk/jars/graphframes-0.5.0-spark2.1-s_2.11.jar',\n",
    "    '/Users/pran8670/Documents/workspace/spark-techtalk/jars/scala-logging-slf4j_2.11-2.1.2.jar',\n",
    "    '/Users/pran8670/Documents/workspace/spark-techtalk/jars/scala-logging-api_2.11-2.1.2.jar'\n",
    "]\n",
    "\n",
    "sc = pyspark.SparkContext(pyFiles = jars)\n",
    "\n",
    "from graphframes import *\n",
    "sqlContext = pyspark.sql.SQLContext(sc)"
   ]
  },
  {
   "cell_type": "code",
   "execution_count": 20,
   "metadata": {},
   "outputs": [],
   "source": [
    "from datetime import date, datetime\n",
    "\n",
    "def calculate_age(born):\n",
    "    born = datetime.strptime(born, '%Y-%m-%d')\n",
    "    today = date.today()\n",
    "    return today.year - born.year - ((today.month, today.day) < (born.month, born.day))"
   ]
  },
  {
   "cell_type": "code",
   "execution_count": 21,
   "metadata": {},
   "outputs": [],
   "source": [
    "# Create a GraphFrame\n",
    "\n",
    "edgesRDD = sc.textFile('facebook_edges.txt')\n",
    "edgesRDD = edgesRDD.map(lambda row: row.split(' '))\n",
    "e = sqlContext.createDataFrame(data = edgesRDD, schema = ['src', 'dst'])\n",
    "\n",
    "verticesRDD = sc.textFile('facebook_vertices.txt')\n",
    "verticesRDD = verticesRDD.map(lambda row: row.split(','))\n",
    "verticesRDD = verticesRDD.map(lambda row: row + [calculate_age(row[-1])]) # add age field\n",
    "v = sqlContext.createDataFrame(data = verticesRDD, schema = ['id', 'name', 'dob', 'age'])\n",
    "\n",
    "g = GraphFrame(v, e)"
   ]
  },
  {
   "cell_type": "code",
   "execution_count": 22,
   "metadata": {},
   "outputs": [
    {
     "name": "stdout",
     "output_type": "stream",
     "text": [
      "+---+---+\n",
      "|src|dst|\n",
      "+---+---+\n",
      "|  0|  1|\n",
      "|  0|  2|\n",
      "|  0|  3|\n",
      "|  0|  4|\n",
      "|  0|  5|\n",
      "|  0|  6|\n",
      "|  0|  7|\n",
      "|  0|  8|\n",
      "|  0|  9|\n",
      "|  0| 10|\n",
      "|  0| 11|\n",
      "|  0| 12|\n",
      "|  0| 13|\n",
      "|  0| 14|\n",
      "|  0| 15|\n",
      "|  0| 16|\n",
      "|  0| 17|\n",
      "|  0| 18|\n",
      "|  0| 19|\n",
      "|  0| 20|\n",
      "+---+---+\n",
      "only showing top 20 rows\n",
      "\n"
     ]
    }
   ],
   "source": [
    "g.edges.show()"
   ]
  },
  {
   "cell_type": "code",
   "execution_count": 23,
   "metadata": {},
   "outputs": [
    {
     "name": "stdout",
     "output_type": "stream",
     "text": [
      "+----+-------------------+----------+---+\n",
      "|  id|               name|       dob|age|\n",
      "+----+-------------------+----------+---+\n",
      "|2265|     Kelly Anderson|2001-07-26| 17|\n",
      "|3603|    Clayton Simpson|1943-02-03| 75|\n",
      "|3076|      Melissa Dixon|1945-07-03| 73|\n",
      "|3665|    Donald Fletcher|1925-01-22| 93|\n",
      "|3690| Alexandra Williams|1912-05-27|106|\n",
      "| 145|     Heather Suarez|2012-07-09|  6|\n",
      "|1867|      Adam Faulkner|1912-06-24|106|\n",
      "| 813|        Joe Stevens|1953-09-17| 64|\n",
      "|  38|       Aaron Thomas|1981-03-24| 37|\n",
      "|1281|Mrs. Amanda Ramirez|1904-10-26|113|\n",
      "|2232|      Jose Campbell|2002-12-29| 15|\n",
      "|3492|       Matthew Cruz|1991-04-30| 27|\n",
      "|3701|      Michael Brown|1962-12-09| 55|\n",
      "|1135|        Mike Parker|1985-11-22| 32|\n",
      "| 118|       Daniel Moore|1911-07-09|107|\n",
      "|2797|      Sarah Andrade|1977-07-14| 41|\n",
      "|3449|     Pamela Edwards|1947-10-08| 70|\n",
      "|1496|       Brett Barnes|1917-06-15|101|\n",
      "|3244|         John Jones|1965-08-12| 53|\n",
      "|3568|       Steven Wolfe|1974-12-15| 43|\n",
      "+----+-------------------+----------+---+\n",
      "only showing top 20 rows\n",
      "\n"
     ]
    }
   ],
   "source": [
    "g.vertices.show()"
   ]
  },
  {
   "cell_type": "code",
   "execution_count": 24,
   "metadata": {},
   "outputs": [
    {
     "name": "stdout",
     "output_type": "stream",
     "text": [
      "+----+-------------------+----------+---+----+------+\n",
      "|  id|               name|       dob|age|  id|degree|\n",
      "+----+-------------------+----------+---+----+------+\n",
      "|1090|     Robert Padilla|1980-08-29| 38|1090|    13|\n",
      "|1159|     Valerie Miller|1920-01-14| 98|1159|    61|\n",
      "|1436|       Amanda Miles|2016-12-28|  1|1436|    30|\n",
      "|1512|      Jared Collins|1902-11-20|115|1512|    34|\n",
      "|1572|        Karen Reyes|1991-08-21| 27|1572|    43|\n",
      "|2069|     Robert Rodgers|1991-07-26| 27|2069|   168|\n",
      "|2088| Benjamin Blackburn|1906-02-04|112|2088|   198|\n",
      "|2136|        Joseph Hall|1953-10-03| 64|2136|    74|\n",
      "|2162|      Dawn Mckinney|2016-12-20|  1|2162|    15|\n",
      "|2294|     Alison Stewart|1913-07-04|105|2294|   122|\n",
      "|2904|  Alexandra Hampton|1979-01-31| 39|2904|    72|\n",
      "| 296|         Troy Hayes|1910-10-13|107| 296|     7|\n",
      "|3210|       Joseph Hayes|2014-11-18|  3|3210|    14|\n",
      "|3414|       Barry Weaver|1932-11-02| 85|3414|    18|\n",
      "|3606|       Allen Cannon|2015-04-22|  3|3606|     5|\n",
      "|3959|Jacqueline Thompson|1972-05-13| 46|3959|     2|\n",
      "|4032|Christopher Pearson|1916-12-24|101|4032|     2|\n",
      "| 467|     Kenneth Murphy|1995-04-30| 23| 467|     4|\n",
      "| 675|      Edgar Montoya|1904-12-16|113| 675|    23|\n",
      "| 691|      Crystal Cantu|1918-04-10|100| 691|     6|\n",
      "+----+-------------------+----------+---+----+------+\n",
      "only showing top 20 rows\n",
      "\n"
     ]
    }
   ],
   "source": [
    "# Degrees of a node - Number of friends of a person\n",
    "v = g.vertices\n",
    "d = g.degrees\n",
    "v.join(d, d.id == v.id).show() # performing join operation on dataframe just like SQL for you to see details like name, age, dob"
   ]
  },
  {
   "cell_type": "code",
   "execution_count": 25,
   "metadata": {},
   "outputs": [
    {
     "name": "stdout",
     "output_type": "stream",
     "text": [
      "+------------------------------------------+----------+-------------------------------------+-----------+--------------------------------------+\n",
      "|a                                         |e         |b                                    |e2         |c                                     |\n",
      "+------------------------------------------+----------+-------------------------------------+-----------+--------------------------------------+\n",
      "|[0, Catherine Pacheco, 1908-09-05, 109]   |[0, 107]  |[107, Randy Pena, 1972-06-17, 46]    |[107, 1090]|[1090, Robert Padilla, 1980-08-29, 38]|\n",
      "|[58, Ashley Lucas, 1975-02-08, 43]        |[58, 107] |[107, Randy Pena, 1972-06-17, 46]    |[107, 1090]|[1090, Robert Padilla, 1980-08-29, 38]|\n",
      "|[107, Randy Pena, 1972-06-17, 46]         |[107, 985]|[985, Gabriel Brown, 1965-08-11, 53] |[985, 1090]|[1090, Robert Padilla, 1980-08-29, 38]|\n",
      "|[917, John Quinn, 2002-09-25, 15]         |[917, 944]|[944, Mark Robertson, 1941-09-09, 76]|[944, 1159]|[1159, Valerie Miller, 1920-01-14, 98]|\n",
      "|[107, Randy Pena, 1972-06-17, 46]         |[107, 944]|[944, Mark Robertson, 1941-09-09, 76]|[944, 1159]|[1159, Valerie Miller, 1920-01-14, 98]|\n",
      "|[107, Randy Pena, 1972-06-17, 46]         |[107, 924]|[924, Heather Hobbs, 1991-08-14, 27] |[924, 1159]|[1159, Valerie Miller, 1920-01-14, 98]|\n",
      "|[483, Daniel Robinson, 1905-10-27, 112]   |[483, 917]|[917, John Quinn, 2002-09-25, 15]    |[917, 1159]|[1159, Valerie Miller, 1920-01-14, 98]|\n",
      "|[903, Kathleen Stewart MD, 1969-09-04, 48]|[903, 917]|[917, John Quinn, 2002-09-25, 15]    |[917, 1159]|[1159, Valerie Miller, 1920-01-14, 98]|\n",
      "|[107, Randy Pena, 1972-06-17, 46]         |[107, 917]|[917, John Quinn, 2002-09-25, 15]    |[917, 1159]|[1159, Valerie Miller, 1920-01-14, 98]|\n",
      "|[596, Tina Butler, 2002-03-07, 16]        |[596, 917]|[917, John Quinn, 2002-09-25, 15]    |[917, 1159]|[1159, Valerie Miller, 1920-01-14, 98]|\n",
      "+------------------------------------------+----------+-------------------------------------+-----------+--------------------------------------+\n",
      "only showing top 10 rows\n",
      "\n"
     ]
    }
   ],
   "source": [
    "# Find friends at a distance of 2 hops known as motif finding\n",
    "# In other words, a and c will be shown each other as \"You may also know... or B can introduce a and c to each other\"\n",
    "g.find(\"(a)-[e]->(b); (b)-[e2]->(c)\").show(10, False)"
   ]
  },
  {
   "cell_type": "code",
   "execution_count": 27,
   "metadata": {},
   "outputs": [
    {
     "name": "stdout",
     "output_type": "stream",
     "text": [
      "+---------------------------------------+--------+---------------------------------+-----------+--------------------------------------+\n",
      "|from                                   |e0      |v1                               |e1         |to                                    |\n",
      "+---------------------------------------+--------+---------------------------------+-----------+--------------------------------------+\n",
      "|[0, Catherine Pacheco, 1908-09-05, 109]|[0, 107]|[107, Randy Pena, 1972-06-17, 46]|[107, 1090]|[1090, Robert Padilla, 1980-08-29, 38]|\n",
      "+---------------------------------------+--------+---------------------------------+-----------+--------------------------------------+\n",
      "\n"
     ]
    }
   ],
   "source": [
    "# Find a path (trail of people that connects 2 people) between 2 nodes - find a path from one person to the other\n",
    "g.bfs(\"id = '0'\", \"id = '1090'\").show(10, False)"
   ]
  },
  {
   "cell_type": "code",
   "execution_count": 38,
   "metadata": {},
   "outputs": [],
   "source": [
    "# Community (cluster) detection in social network \n",
    "# - based on how densely nodes are connected to each other in a certain region of graph\n",
    "communities = g.labelPropagation(maxIter = 10)\n",
    "communities = communities.select(\"id\", \"label\")"
   ]
  },
  {
   "cell_type": "code",
   "execution_count": 39,
   "metadata": {},
   "outputs": [
    {
     "name": "stdout",
     "output_type": "stream",
     "text": [
      "+----+-------------+\n",
      "|  id|        label|\n",
      "+----+-------------+\n",
      "|2772| 575525617676|\n",
      "|1584| 292057776129|\n",
      "|3914| 335007449099|\n",
      "|3148| 575525617676|\n",
      "|3391| 575525617676|\n",
      "|1593| 386547056642|\n",
      "|3221| 575525617676|\n",
      "|1533| 395136991236|\n",
      "|3485| 326417514505|\n",
      "|1603| 292057776129|\n",
      "|1244| 377957122048|\n",
      "|2919|1529008357385|\n",
      "|3331| 575525617676|\n",
      "| 165|1503238553605|\n",
      "|3263| 575525617676|\n",
      "|1687| 386547056642|\n",
      "|1335| 292057776129|\n",
      "|2539| 601295421446|\n",
      "|2542| 601295421446|\n",
      "|2698|1529008357385|\n",
      "+----+-------------+\n",
      "only showing top 20 rows\n",
      "\n"
     ]
    }
   ],
   "source": [
    "# Each node and its corresponding community that it belongs to\n",
    "communities.show()"
   ]
  },
  {
   "cell_type": "code",
   "execution_count": 40,
   "metadata": {},
   "outputs": [
    {
     "data": {
      "text/plain": [
       "66"
      ]
     },
     "execution_count": 40,
     "metadata": {},
     "output_type": "execute_result"
    }
   ],
   "source": [
    "# Total number of unique communities found by the algorithm\n",
    "communities.select('label').distinct().count()"
   ]
  },
  {
   "cell_type": "code",
   "execution_count": 43,
   "metadata": {},
   "outputs": [
    {
     "name": "stdout",
     "output_type": "stream",
     "text": [
      "+-------------+-----+\n",
      "|        label|count|\n",
      "+-------------+-----+\n",
      "| 292057776129|  507|\n",
      "| 575525617676|  433|\n",
      "|1047972020237|  295|\n",
      "|1632087572497|  243|\n",
      "| 601295421446|  237|\n",
      "|1503238553605|  235|\n",
      "|1529008357385|  226|\n",
      "| 884763262999|  164|\n",
      "| 335007449099|  153|\n",
      "| 377957122048|  133|\n",
      "|1537598291979|  113|\n",
      "|1494648619015|   99|\n",
      "| 429496729601|   99|\n",
      "|1082331758597|   73|\n",
      "| 721554505730|   72|\n",
      "| 326417514505|   67|\n",
      "| 506806140943|   55|\n",
      "|1065151889409|   54|\n",
      "|  17179869198|   51|\n",
      "|  85899345937|   50|\n",
      "+-------------+-----+\n",
      "only showing top 20 rows\n",
      "\n"
     ]
    }
   ],
   "source": [
    "# Number of nodes present in each community sorted by descending order\n",
    "communities.groupby('label').count().orderBy('count', ascending=False).show()"
   ]
  },
  {
   "cell_type": "code",
   "execution_count": null,
   "metadata": {},
   "outputs": [],
   "source": []
  }
 ],
 "metadata": {
  "kernelspec": {
   "display_name": "Python 3",
   "language": "python",
   "name": "python3"
  },
  "language_info": {
   "codemirror_mode": {
    "name": "ipython",
    "version": 3
   },
   "file_extension": ".py",
   "mimetype": "text/x-python",
   "name": "python",
   "nbconvert_exporter": "python",
   "pygments_lexer": "ipython3",
   "version": "3.6.4"
  }
 },
 "nbformat": 4,
 "nbformat_minor": 2
}
