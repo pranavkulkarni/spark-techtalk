{
 "cells": [
  {
   "cell_type": "code",
   "execution_count": 1,
   "metadata": {},
   "outputs": [
    {
     "data": {
      "text/html": [
       "<style>.container { width:100% !important; }</style>"
      ],
      "text/plain": [
       "<IPython.core.display.HTML object>"
      ]
     },
     "metadata": {},
     "output_type": "display_data"
    }
   ],
   "source": [
    "import pyspark\n",
    "import json\n",
    "from IPython.core.display import display, HTML\n",
    "display(HTML(\"<style>.container { width:100% !important; }</style>\"))"
   ]
  },
  {
   "cell_type": "code",
   "execution_count": 2,
   "metadata": {},
   "outputs": [],
   "source": [
    "sc = pyspark.SparkContext()"
   ]
  },
  {
   "cell_type": "code",
   "execution_count": 3,
   "metadata": {},
   "outputs": [],
   "source": [
    "sqlContext = pyspark.sql.SQLContext(sc)"
   ]
  },
  {
   "cell_type": "code",
   "execution_count": 4,
   "metadata": {},
   "outputs": [],
   "source": [
    "edgesRDD = sc.textFile('edges_preprocessed_1M.csv')\n",
    "edgesRDD = edgesRDD \\\n",
    "           .map(lambda e: json.loads(e.split('\\t')[-1])) # fetch just the json part of the edge"
   ]
  },
  {
   "cell_type": "code",
   "execution_count": 5,
   "metadata": {},
   "outputs": [],
   "source": [
    "edgesRDD = edgesRDD \\\n",
    "           .map(lambda e: (e['start'], e['end'], e['rel'])) # edge structure"
   ]
  },
  {
   "cell_type": "code",
   "execution_count": 12,
   "metadata": {},
   "outputs": [],
   "source": [
    "e = sqlContext.createDataFrame(data = edgesRDD, schema = ['src', 'dst', 'rel'])"
   ]
  },
  {
   "cell_type": "code",
   "execution_count": 7,
   "metadata": {},
   "outputs": [
    {
     "name": "stdout",
     "output_type": "stream",
     "text": [
      "+-------------------+----------------+------+\n",
      "|src                |dst             |rel   |\n",
      "+-------------------+----------------+------+\n",
      "|/c/af/aasvoël      |/c/af/voël/n    |/r/IsA|\n",
      "|/c/af/afghanistan/n|/c/de/land      |/r/IsA|\n",
      "|/c/af/afghanistan/n|/c/de/staat     |/r/IsA|\n",
      "|/c/af/biologie/n   |/c/af/wetenskap |/r/IsA|\n",
      "|/c/af/boompadda    |/c/af/padda/n   |/r/IsA|\n",
      "|/c/af/brulpadda    |/c/af/padda/n   |/r/IsA|\n",
      "|/c/af/dierkunde    |/c/af/biologie/n|/r/IsA|\n",
      "|/c/af/gas/n        |/c/af/chemies   |/r/IsA|\n",
      "|/c/af/gas/n        |/c/af/verbinding|/r/IsA|\n",
      "|/c/af/gas/n        |/c/de/element   |/r/IsA|\n",
      "+-------------------+----------------+------+\n",
      "only showing top 10 rows\n",
      "\n"
     ]
    }
   ],
   "source": [
    "e.show(10, False)"
   ]
  },
  {
   "cell_type": "code",
   "execution_count": 8,
   "metadata": {},
   "outputs": [
    {
     "name": "stdout",
     "output_type": "stream",
     "text": [
      "+------------+\n",
      "|         rel|\n",
      "+------------+\n",
      "|      /r/IsA|\n",
      "|/r/RelatedTo|\n",
      "+------------+\n",
      "\n"
     ]
    }
   ],
   "source": [
    "e.select('rel').distinct().show()"
   ]
  },
  {
   "cell_type": "code",
   "execution_count": 9,
   "metadata": {},
   "outputs": [
    {
     "name": "stdout",
     "output_type": "stream",
     "text": [
      "+--------------------+------------+------------+\n",
      "|src                 |dst         |rel         |\n",
      "+--------------------+------------+------------+\n",
      "|/c/ab/акаҳуа/n      |/c/en/coffee|/r/RelatedTo|\n",
      "|/c/ady/къэхьо/n     |/c/en/coffee|/r/RelatedTo|\n",
      "|/c/af/koffie/n      |/c/en/coffee|/r/RelatedTo|\n",
      "|/c/am/ቡና/n          |/c/en/coffee|/r/RelatedTo|\n",
      "|/c/ar/بن/n          |/c/en/coffee|/r/RelatedTo|\n",
      "|/c/ar/بني/a         |/c/en/coffee|/r/RelatedTo|\n",
      "|/c/ar/قهوة/n        |/c/en/coffee|/r/RelatedTo|\n",
      "|/c/arc/קהוא/n       |/c/en/coffee|/r/RelatedTo|\n",
      "|/c/ast/café/n       |/c/en/coffee|/r/RelatedTo|\n",
      "|/c/az/qəhvə/n       |/c/en/coffee|/r/RelatedTo|\n",
      "|/c/ba/ҡәһүә/n       |/c/en/coffee|/r/RelatedTo|\n",
      "|/c/bal/قہوہ/n       |/c/en/coffee|/r/RelatedTo|\n",
      "|/c/bal/کاوہ/n       |/c/en/coffee|/r/RelatedTo|\n",
      "|/c/be/кава/n        |/c/en/coffee|/r/RelatedTo|\n",
      "|/c/bg/кафе/n        |/c/en/coffee|/r/RelatedTo|\n",
      "|/c/bn/কফি/n         |/c/en/coffee|/r/RelatedTo|\n",
      "|/c/ca/cafè/n        |/c/en/coffee|/r/RelatedTo|\n",
      "|/c/ce/кофэ/n        |/c/en/coffee|/r/RelatedTo|\n",
      "|/c/ce/къахьо/n      |/c/en/coffee|/r/RelatedTo|\n",
      "|/c/ceb/kape/n       |/c/en/coffee|/r/RelatedTo|\n",
      "|/c/chk/kofi/n       |/c/en/coffee|/r/RelatedTo|\n",
      "|/c/chr/ᎧᏫ/n         |/c/en/coffee|/r/RelatedTo|\n",
      "|/c/crh/qave/n       |/c/en/coffee|/r/RelatedTo|\n",
      "|/c/cs/brynda/n      |/c/en/coffee|/r/RelatedTo|\n",
      "|/c/cs/kafe/n        |/c/en/coffee|/r/RelatedTo|\n",
      "|/c/cs/káva/n        |/c/en/coffee|/r/RelatedTo|\n",
      "|/c/cs/kávovník/n    |/c/en/coffee|/r/RelatedTo|\n",
      "|/c/cs/kávový/a      |/c/en/coffee|/r/RelatedTo|\n",
      "|/c/cs/lógr/n        |/c/en/coffee|/r/RelatedTo|\n",
      "|/c/cs/turecká_káva/n|/c/en/coffee|/r/RelatedTo|\n",
      "|/c/cy/coffi/n       |/c/en/coffee|/r/RelatedTo|\n",
      "+--------------------+------------+------------+\n",
      "\n"
     ]
    }
   ],
   "source": [
    "e.filter(\"(src == '/c/en/coffee' OR dst == '/c/en/coffee') AND (rel == '/r/RelatedTo')\").show(100, False)"
   ]
  },
  {
   "cell_type": "code",
   "execution_count": 14,
   "metadata": {},
   "outputs": [
    {
     "name": "stdout",
     "output_type": "stream",
     "text": [
      "+------------------+----------------------------------------+------+\n",
      "|src               |dst                                     |rel   |\n",
      "+------------------+----------------------------------------+------+\n",
      "|/c/en/ice         |/c/en/water                             |/r/IsA|\n",
      "|/c/en/rain        |/c/en/water                             |/r/IsA|\n",
      "|/c/en/salt_water/n|/c/en/water                             |/r/IsA|\n",
      "|/c/en/saltwater/a |/c/en/water                             |/r/IsA|\n",
      "|/c/en/seawater/n  |/c/en/water                             |/r/IsA|\n",
      "|/c/en/snow        |/c/en/water                             |/r/IsA|\n",
      "|/c/en/steam       |/c/en/water                             |/r/IsA|\n",
      "|/c/en/water       |/c/en/beverage                          |/r/IsA|\n",
      "|/c/en/water       |/c/en/bit_transparent                   |/r/IsA|\n",
      "|/c/en/water       |/c/en/burnt_hydrogen                    |/r/IsA|\n",
      "|/c/en/water       |/c/en/chemical                          |/r/IsA|\n",
      "|/c/en/water       |/c/en/chemical_compound                 |/r/IsA|\n",
      "|/c/en/water       |/c/en/common_liquid                     |/r/IsA|\n",
      "|/c/en/water       |/c/en/common_name_for_h2o               |/r/IsA|\n",
      "|/c/en/water       |/c/en/common_name_for_hydrogen_hydroxide|/r/IsA|\n",
      "|/c/en/water       |/c/en/compound_of_hydrogen_and_oxygen   |/r/IsA|\n",
      "|/c/en/water       |/c/en/fluid                             |/r/IsA|\n",
      "|/c/en/water       |/c/en/good_solvent                      |/r/IsA|\n",
      "|/c/en/water       |/c/en/h2o                               |/r/IsA|\n",
      "|/c/en/water       |/c/en/heavier_than_air                  |/r/IsA|\n",
      "|/c/en/water       |/c/en/heavier_than_wood                 |/r/IsA|\n",
      "|/c/en/water       |/c/en/life                              |/r/IsA|\n",
      "|/c/en/water       |/c/en/liquid                            |/r/IsA|\n",
      "|/c/en/water       |/c/en/liwuid                            |/r/IsA|\n",
      "|/c/en/water       |/c/en/molecule                          |/r/IsA|\n",
      "|/c/en/water       |/c/en/natural_resource                  |/r/IsA|\n",
      "|/c/en/water       |/c/en/necessary_component_to_life       |/r/IsA|\n",
      "|/c/en/water       |/c/en/necessity_for_life                |/r/IsA|\n",
      "|/c/en/water       |/c/en/not_air                           |/r/IsA|\n",
      "|/c/en/water       |/c/en/not_flammible                     |/r/IsA|\n",
      "|/c/en/water       |/c/en/one_waste_product_of_metabolism   |/r/IsA|\n",
      "|/c/en/water       |/c/en/oxyde                             |/r/IsA|\n",
      "|/c/en/water       |/c/en/placebo                           |/r/IsA|\n",
      "|/c/en/water       |/c/en/reflective_surface                |/r/IsA|\n",
      "|/c/en/water       |/c/en/solvent                           |/r/IsA|\n",
      "|/c/en/water       |/c/en/stronger_than_stone               |/r/IsA|\n",
      "|/c/en/water       |/c/en/utility                           |/r/IsA|\n",
      "|/c/en/water       |/c/en/very_simple_beverage              |/r/IsA|\n",
      "+------------------+----------------------------------------+------+\n",
      "\n"
     ]
    }
   ],
   "source": [
    "e.filter(\"(src == '/c/en/water' OR dst == '/c/en/water') AND (rel == '/r/IsA')\").show(100, False)"
   ]
  },
  {
   "cell_type": "code",
   "execution_count": null,
   "metadata": {},
   "outputs": [],
   "source": []
  }
 ],
 "metadata": {
  "kernelspec": {
   "display_name": "Python 3",
   "language": "python",
   "name": "python3"
  },
  "language_info": {
   "codemirror_mode": {
    "name": "ipython",
    "version": 3
   },
   "file_extension": ".py",
   "mimetype": "text/x-python",
   "name": "python",
   "nbconvert_exporter": "python",
   "pygments_lexer": "ipython3",
   "version": "3.6.4"
  }
 },
 "nbformat": 4,
 "nbformat_minor": 2
}
